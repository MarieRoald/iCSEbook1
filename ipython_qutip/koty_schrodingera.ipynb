{
 "metadata": {
  "name": ""
 },
 "nbformat": 3,
 "nbformat_minor": 0,
 "worksheets": [
  {
   "cells": [
    {
     "cell_type": "markdown",
     "metadata": {},
     "source": [
      "Koty Schroedingera\n",
      "=====================\n",
      "\n",
      "Plan\n",
      "----\n",
      "\n",
      "1. Paradoks kota Schroedingera\n",
      "2. Koty Schroedingera w optyce kwantowej\n",
      "3. W\u0142asnosci kot\u00f3w\n",
      "4. Wizualizacja parzystych kot\u00f3w Schroedingera: Funkcje Wignera i Husimiego\n",
      "5. Wizualizacja nieparzystych kot\u00f3w Schroedingera: Funkcje Wignera i Husimiego\n",
      "6. Zadania"
     ]
    },
    {
     "cell_type": "markdown",
     "metadata": {},
     "source": [
      "Kazus kota Schroedingera jest bodaj najbardziej znanym 'paradoksem' kwantowym. Przypomnijmy, \u017ce sam Schroedinger, b\u0119d\u0105c sceptycznie nastawionym do nowopowsta\u0142ej mechaniki kwantowej, pragn\u0105\u0142 by\u0142 wskaza\u0107 na niedorzeczno\u015b\u0107 wnioskowania kwantowego zastosowanego do makro\u015bwiata. W jego przyk\u0142adzie rol\u0119 wiod\u0105c\u0105 odgrywa\u0142 by\u0142 kot, kt\u00f3rego \u017cycie lub \u015bmier\u0107 zale\u017ca\u0142a od wyniku pewnego pomiaru kwantowego. Jak ju\u017c w\u00f3wczas wiedziano pomiar wp\u0142ywa na stan mierzonego uk\u0142adu, rzutuj\u0105c go do jednego z kilku mo\u017cliwych wynik\u00f3w (pomiar rzutowy - wersja uproszczona). W chwilach poprzedzaj\u0105cych pomiar uk\u0142ad kwantowy jest superpozycj\u0105 mo\u017cliwo\u015bci, kt\u00f3rych realizacja zale\u017cy od wyniku przysz\u0142ego pomiaru. Schroedinger zauwa\u017cy\u0142, \u017ce w opisywanym przeze\u0144 _gedanken eksperiment_  rzeczony kot jest r\u00f3wnie\u017c suppozycj\u0105, w tym przypadku kota \u017cywego i zdech\u0142ego. Realizacja tych mo\u017cliwo\u015bci powi\u0105zana by\u0142a z wynikiem eksperymentu.    \n",
      "\n",
      "W dzisiejszych czasach pod poj\u0119ciem __kota Schroedingera__ rozumie si\u0119 stany uk\u0142ad\u00f3w optycznych, kt\u00f3re mo\u017cna przedstawi\u0107 jako superpozycje stan\u00f3w koherentnych:\n",
      "\n",
      "$ |SC\\rangle =N^{-1}(z)(|z\\rangle\\pm |-z\\rangle) $\n",
      "\n",
      "Stany te s\u0105 podobne do kot\u00f3w, o kt\u00f3rych my\u015bla\u0142 Schroedinger, gdy\u017c stany koherentne $ |z\\range $ s\u0105, dla dostacznie du\u017cych $ |z|$ makroskopowo odr\u00f3\u017cnialne. \n",
      "\n",
      "Koty\n",
      "\n",
      "$ |SC\\rangle =N^{-1}(z)(|z\\rangle + |-z\\rangle) $ \n",
      "\n",
      "nazywamy parzystymi, za\u015b\n",
      "\n",
      "$ |SC\\rangle =N^{-1}(z)(|z\\rangle - |-z\\rangle) $\n",
      "\n",
      "nieparzystymi. R\u00f3\u017cnice pomi\u0119dzy nimi b\u0119d\u0105 nas bardzo interesowa\u0142y.\n",
      "\n",
      "Rozpocznijmy od pobrania niezb\u0119dnych narz\u0119dzi:"
     ]
    },
    {
     "cell_type": "code",
     "collapsed": false,
     "input": [
      "from qutip import *\n",
      "from mpl_toolkits.mplot3d import Axes3D\n",
      "from matplotlib import *\n",
      "from pylab import *"
     ],
     "language": "python",
     "metadata": {},
     "outputs": [],
     "prompt_number": 1
    },
    {
     "cell_type": "markdown",
     "metadata": {},
     "source": [
      "Okre\u015blmy teraz wymiar obci\u0119tej przestrzeni Hilberta $dim(H) = N$:  "
     ]
    },
    {
     "cell_type": "code",
     "collapsed": false,
     "input": [
      "N=10"
     ],
     "language": "python",
     "metadata": {},
     "outputs": [],
     "prompt_number": 2
    },
    {
     "cell_type": "markdown",
     "metadata": {},
     "source": [
      "Oraz wybierzmy $z$:"
     ]
    },
    {
     "cell_type": "code",
     "collapsed": false,
     "input": [
      "z=3"
     ],
     "language": "python",
     "metadata": {},
     "outputs": [],
     "prompt_number": 3
    },
    {
     "cell_type": "markdown",
     "metadata": {},
     "source": [
      "Jeste\u015bmy gotowi skonstruowa\u0107 koty. Funkcja unit() zapewnia ich normalizacj\u0119"
     ]
    },
    {
     "cell_type": "code",
     "collapsed": false,
     "input": [
      "kot_p=(coherent(N,z)+coherent(N,-z)).unit()\n",
      "kot_np=(coherent(N,z)-coherent(N,-z)).unit()"
     ],
     "language": "python",
     "metadata": {},
     "outputs": [],
     "prompt_number": 4
    },
    {
     "cell_type": "markdown",
     "metadata": {},
     "source": [
      "Otrzymujemy wi\u0119c nast\u0119puj\u0105ce macierze g\u0119sto\u015bci:"
     ]
    },
    {
     "cell_type": "code",
     "collapsed": false,
     "input": [
      "rho_p=ket2dm(kot_p)\n",
      "rho_np=ket2dm(kot_np)"
     ],
     "language": "python",
     "metadata": {},
     "outputs": [],
     "prompt_number": 5
    },
    {
     "cell_type": "markdown",
     "metadata": {},
     "source": [
      "U\u017cytecznym narz\u0119dziem w badaniu w\u0142asno\u015bci stan\u00f3w kwantowych s\u0105 funkcje (kwazi)prawodopodobie\u0144stwa. \n",
      "Tutaj wykorzystamy dwie z nich: funkcj\u0119 Wignera i Husimiego. \n",
      "\n",
      "Funcja Wignera jest jedn\u0105 z najcz\u0119\u015bciej wykorzystywanych funkcji w optyce kwantowej. Tutaj zdefiniujemy j\u0105 jedynie dla stan\u00f3w czystych  $|\\psi\\rangle$ poprzez jedn\u0105 z jej w\u0142\u0105sno\u015bci, kt\u00f3re mo\u017cna otrzyma\u0107 z og\u00f3lnej definicji:\n",
      "\n",
      "$ W(\\alpha)=\\frac{2}{\\pi}\\sum_{n=0}^\\infty \\langle \\psi|D(\\alpha)|n\\rangle\\langle n|D^\\dagger(\\alpha)|\\psi\\rangle   $\n",
      "\n",
      "gdzie operator przesuni\u0119cia $ D $dany jest wzorem:\n",
      "\n",
      "$ D(\\alpha) = \\exp(\\alpha a^\\dagger -\\alpha^* a )$\n",
      "\n",
      "Podstawow\u0105 cech\u0105 funkcji Wignera, kt\u00f3r\u0105 wykorzystamy jest to, \u017ce przyjmuje ona warto\u015bci ujemne dla stan\u00f3w, kt\u00f3re nale\u017c\u0105 do grupy \"nieklasycznych\". Cecg tej nie posiada funkcja Husimiego: \n",
      "\n",
      "$ Q(z) = \\langle z|\\rho | z\\rangle /\\pi $\n",
      "\n",
      "ma ona jednak jasn\u0105 interpretacj\u0105 probabilistyczn\u0105 i opisuje prawdopodobie\u0144stwo, \u017ce dany stan $\\rho$ jest stanem koherentnym o danym $z$. "
     ]
    },
    {
     "cell_type": "markdown",
     "metadata": {},
     "source": [
      "Poni\u017cej, wykorzystuj\u0105c funkcj\u0119 QuTipa wigner() wygenerowali\u015bmy funkcj\u0119 Wignera dla stanu $\\rho$, a nast\u0119pnie j\u0105 nakre\u015blili\u015bmy  "
     ]
    },
    {
     "cell_type": "code",
     "collapsed": false,
     "input": [
      "rho=rho_p\n",
      "xvec = linspace(-5,5,200)\n",
      "X, Y = meshgrid(xvec, xvec)\n",
      "W = wigner(rho, xvec, xvec)\n",
      "fig = figure()\n",
      "ax = Axes3D(fig, azim=-62, elev=25)\n",
      "ax.plot_surface(X, Y, W, rstride=2, cstride=2, cmap=cm.jet, lw=.1)\n",
      "ax.set_xlim3d(-6, 6)\n",
      "ax.set_ylim3d(-6, 6)\n",
      "ax.set_zlim3d(0, 0.4)\n",
      "title('Funkcja Wignera')\n",
      "show()"
     ],
     "language": "python",
     "metadata": {},
     "outputs": [],
     "prompt_number": 6
    },
    {
     "cell_type": "markdown",
     "metadata": {},
     "source": [
      "Na szczeg\u00f3ln\u0105 uwag\u0119 zas\u0142uguje obszar, gdzie funkcja Wignera jest ujemna. Istnienia takich obszar\u00f3w oznacza, \u017ce koty Schroedingera s\u0105 stanami nieklasycznymi w rozumieniu optyki kwantowej. "
     ]
    },
    {
     "cell_type": "markdown",
     "metadata": {},
     "source": [
      "W przypadku nieujemnej funkcji Husimiego nie mo\u017cemy m\u00f3wi\u0107 o detekcji nieklasyczno\u015b\u0107. Poni\u017cej nakre\u015blona jest funkcja Husimiego dla stanu $\\rho$ przy u\u017cyciu funkcji qfunc().   "
     ]
    },
    {
     "cell_type": "code",
     "collapsed": false,
     "input": [
      "rho=rho_p\n",
      "Q = qfunc(rho, xvec, xvec)\n",
      "fig = figure()\n",
      "ax = Axes3D(fig, azim=-62, elev=25)\n",
      "ax.plot_surface(X, Y, Q, rstride=2, cstride=2, cmap=cm.jet, lw=.1)\n",
      "ax.set_xlim3d(-6, 6)\n",
      "ax.set_ylim3d(-6, 6)\n",
      "#ax.set_zlim3d(0, 0.4)\n",
      "title('Funkcja Q')\n",
      "show()"
     ],
     "language": "python",
     "metadata": {},
     "outputs": [],
     "prompt_number": 16
    },
    {
     "cell_type": "markdown",
     "metadata": {},
     "source": [
      "Na podstawie wykresu funkcji Husimiego mo\u017cemy przekona\u0107 si\u0119, \u017ce istotnie koty Schroedingera s\u0105 zbudowane z dwu stan\u00f3w klasycznych, makroskopowo rozr\u00f3\u017cnialnych, kt\u00f3rych obecno\u015b\u0107 wskazuj\u0105 maksima funkcji $Q$ "
     ]
    },
    {
     "cell_type": "markdown",
     "metadata": {},
     "source": [
      "Ostani\u0105 zagadk\u0105, kt\u00f3r\u0105 przyjdzie nam rozwik\u0142\u0105\u0107 jest podzia\u0142 kot\u00f3w na przyste i nieparzyste. W tym celu przeanalizujmy prawdopodobie\u0144stwa obsadzenia stan\u00f3w $|n\\rangle$ o ustalonej liczbie foton\u00f3w \n",
      "\n",
      "$a^\\dagger a |n\\rangle=n|n\\rangle $\n",
      "\n",
      "czyli \n",
      "\n",
      "$P_n=|\\langle n|\\psi\\rangle|$\n",
      "\n",
      "U\u017cyjemy funkcji fock_distribution():\n"
     ]
    },
    {
     "cell_type": "code",
     "collapsed": false,
     "input": [
      "rho=rho_p\n",
      "fock_distribution(rho)#, fig=None, ax=None, figsize=(8, 6), title=None)\n",
      "show()"
     ],
     "language": "python",
     "metadata": {},
     "outputs": [],
     "prompt_number": 17
    },
    {
     "cell_type": "markdown",
     "metadata": {},
     "source": [
      "Zauwa\u017cmy, \u017ce w przypadku kot\u00f3w parzystych niezerowe jest tylko przwdopodobie\u0144stwo obsadzenia stan\u00f3w o parzstym $n$. Inaczej jest w przypadku nieparzystych kot\u00f3\u0142 Schroedingera:  "
     ]
    },
    {
     "cell_type": "code",
     "collapsed": false,
     "input": [
      "rho=rho_np\n",
      "fock_distribution(rho)#, fig=None, ax=None, figsize=(8, 6), title=None)\n",
      "show()"
     ],
     "language": "python",
     "metadata": {},
     "outputs": [],
     "prompt_number": 6
    },
    {
     "cell_type": "markdown",
     "metadata": {},
     "source": [
      "Zadania\n",
      "-------\n",
      "1. Udowodni\u0107, \u017ce liczba foton\u00f3w dla parzystych kot\u00f3w Schroedingera nie mo\u017ce by\u0107 nieparzysta\n",
      "2. Udowodni\u0107, \u017ce liczba foton\u00f3w dla nieparzystych kot\u00f3w Schroedingera nie mo\u017ce by\u0107 parzysta\n",
      "3. Wykre\u015bli\u0107 tr\u00f3jwymiarow\u0105 funkcj\u0119 Wignera i funkcj\u0119 Husimiego dla wybranych nieparzystych kot\u00f3w. \n",
      "4. Obliczy\u0107 czynnik normuj\u0105cy $N(z)$ wyst\u0119puj\u0105cy w definicji kot\u00f3w Schroedingera"
     ]
    },
    {
     "cell_type": "code",
     "collapsed": false,
     "input": [],
     "language": "python",
     "metadata": {},
     "outputs": []
    }
   ],
   "metadata": {}
  }
 ]
}