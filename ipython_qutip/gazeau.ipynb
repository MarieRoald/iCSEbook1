{
 "metadata": {
  "name": ""
 },
 "nbformat": 3,
 "nbformat_minor": 0,
 "worksheets": [
  {
   "cells": [
    {
     "cell_type": "markdown",
     "metadata": {},
     "source": [
      "Cel i zakres\n",
      "------------\n",
      "\n",
      "1) Zdefinowanie stan\u00f3w koherentnych Gazeau-Klaudera, przedstawienie ich konstrukcji numerycznej\n",
      "\n",
      "2) Stany Gazeau-Klaudera dla oscylatora Kerra\n",
      "\n",
      "3) W\u0142asnosci nieklasyczne stan\u00f3w Gazeau-Kludera\n",
      "\n",
      "4) Temporalna stabilno\u015b\u0107 stan\u00f3w koherentnych\n",
      "\n",
      "5) Zadania "
     ]
    },
    {
     "cell_type": "markdown",
     "metadata": {},
     "source": [
      "Temporalna stabilno\u015b\u0107 stan\u00f3w koherentnych.\n",
      "------------------------------------------\n",
      "\n",
      "Stany koherentne (CS, ang. Coherent States) odgrywaj\u0105 wielk\u0105 rol\u0119 w wielu zagadnieniach fizyki. Szczeg\u00f3lna uwaga optyk\u00f3w kwantowych skupiona \n",
      "na w\u0142asnosciach tych stan\u00f3w wi\u0105\u017ce si\u0119 z ich zastosowaniem w kwantowej teorii informacji. Stany koherentne \n",
      "w og\u00f3lnym przypadku wi\u0105za\u0107 mo\u017cemy, na wz\u00f3r prac A. Perelomova, z pewnymi symetriami obecnymi \n",
      "w uk\u0142adzie kwantowym. W pewnym uproszczeniu za\u0142\u00f3\u017cmy, \u017ce  hamiltonian uk\u0142adu kwantowego $H$ jest wyra\u017cony \n",
      "poprzez generatory pewnej algebry Liego. W uk\u0142adach optycznych s\u0105 to na przyk\u0142ad operatory kreacji i anihilacji\n",
      "bozon\u00f3w $a, a^\\dagger$ zwi\u0105zane z reprezentacj\u0105 algeby Heisenberga-Weyla (standardowe CS) $[a,a^\\dagger]=1$ lub macierze Pauliego \n",
      "zwi\u0105zane z reprezentacj\u0105 algebry Liego grupy $SU(2)$ (spinowe CS). Szczeg\u00f3ln\u0105 klas\u0119 zagadnie\u0144 wi\u0105\u017cemy z bozonow\u0105 \n",
      "reprezentacj\u0105 algeby grupy $SU(1,1)$ ze wzgl\u0119du na jej rol\u0119 w teorii stan\u00f3w optycznych \u015bci\u015bni\u0119tych (\u015bcie\u015bnionych) kwadraturowo. \n",
      "Ich dyskusja przedstawiona zostanie w osobnych materia\u0142ach. \n",
      "\n",
      "W przypadku, gdy hamiltonian uk\u0142adu kwantowego wyra\u017ca si\u0119 poprzez generatory pewnej algebry Liego, w\u00f3wczas\n",
      "operator przesuni\u0119cia w czasie ($\\hbar=1$)\n",
      "$$U(t)=\\exp(-iHt)$$\n",
      "jest elementem reprezentacji odpowiedniej grupy Liego. Oznacza to, \u017ce je\u015bli stan pocz\u0105tkowy jest dany \n",
      "stanem koherentnym, to dla dowolnej chwili czasu takim pozostaje. W\u0142asno\u015b\u0107 ta nosi nazw\u0119 temporalnej stabilno\u015bci.\n",
      "\n",
      "Nale\u017cy podkre\u015bli\u0107, \u017ce temporalna stabilno\u015b\u0107 rodziny stan\u00f3w koherentnych nie jest jedyn\u0105 cech\u0105 stan\u00f3w koherentnych\n",
      "czyni\u0105c\u0105 je intersuj\u0105cymi i wa\u017cnymi. Niezale\u017cnie od tego w tych materia\u0142ach na tej w\u0142a\u015bnie cesze skupimy \n",
      "nasz\u0105 uwag\u0119.  "
     ]
    },
    {
     "cell_type": "markdown",
     "metadata": {},
     "source": [
      "Stany koherentne Gazeau-Klaudera. \n",
      "---------------------------------\n",
      "Nie zawsze  potrafimy wskaza\u0107 symetri\u0119 hamiltonianu rozwa\u017canego uk\u0142adu. Cz\u0119sto (prawie zawsze) jej\n",
      "zwyczajnie nie ma :)\n",
      "Istnieje jednak klasa stan\u00f3w koherentnych, kt\u00f3re mozemy zbudowa\u0107 dla szerokiej klasy uk\u0142ad\u00f3w kwantowych. \n",
      "Rozwa\u017cmy przypadek najprostszy: uk\u0142ad kwantowy o dyskretnym widmie niezwyrodnia\u0142ym: \n",
      "$$H|\\psi_n\\rangle=E_n|\\psi_n\\rangle=\\omega \\epsilon_n|\\psi_n\\rangle$$\n",
      "Stany koherentne Gazeau-Klaudera (GKCS) definiujemy nast\u0119puj\u0105co:\n",
      "$$|J,\\gamma\\rangle=\\frac{1}{C(J)}\\sum_{n=0}^{\\infty}\\frac{J^{n/2}\\exp(-i\\gamma e_n)}{\\sqrt{\\rho_n}}|\\psi_n\\rangle\n",
      "$$\n",
      "gdzie\n",
      "$$e_n=\\epsilon_n-\\epsilon_0$$\n",
      "oraz\n",
      "$$\\rho_n=\\prod_{j=1}^n e_j$$\n",
      "Czynnik normuj\u0105cy\n",
      "$$C^2(J)=\\sum_{n=0}^{\\infty}\\frac{J^n}{\\rho_n}$$\n",
      "narzuca nam ograniczenia na warto\u015bci parametru $J$ zwi\u0105zane z promienim zbie\u017cno\u015bci szeregu $C(J)$ "
     ]
    },
    {
     "cell_type": "markdown",
     "metadata": {},
     "source": [
      "Ewolucja w czasie\n",
      "-----------------\n",
      "Stany GK, podobnie jak inne stany koherntne, cechuj\u0105 si\u0119 temporaln\u0105 stabilno\u015bci\u0105:\n",
      "$$\n",
      "|J,\\gamma,t\\rangle=\n",
      "\\frac{1}{C(J)}\\sum_{n=0}^{\\infty}\\frac{J^{n/2}\\exp(-i(\\gamma+\\omega t) e_n)}{\\sqrt{\\rho_n}}|\\psi_n\\rangle\n",
      "$$\n",
      "W dowolnej chwili stan GKCS ewoluuje do innego stanu GKCS. \n",
      "Cecha ta ma zasadnicze praktyczne znaczenie:\n",
      "\n",
      "1. pozwala na badanie asymptotycznych w\u0142asno\u015bci uk\u0142adu kwantowego\n",
      "\n",
      "2. stanowi baz\u0119 dla testu metody numerycznej"
     ]
    },
    {
     "cell_type": "markdown",
     "metadata": {},
     "source": [
      "Przyk\u0142ad: o\u015brodek Kerra\n",
      "-----------------------\n",
      "\n",
      "Rozwa\u017cmy w\u0142asno\u015bci GKCS dla bardzo wa\u017cnego rodzaju oscylatora nieliniowego \n",
      "$$H=\\omega a^\\dagger a+\\chi a^{\\dagger 2} a^2= \\omega \\hat{N}+\\chi(\\hat{N}^2-\\hat{N})$$\n",
      "opisuj\u0105cego tzw. o\u015brodek Kerra wykorzystywany do parametrycznego obni\u017cania cz\u0119sto\u015bci \n",
      "(parametric down-conversion) czy konstrukcji kot\u00f3w Schroedingera.\n",
      "Istotn\u0105 cech\u0105, kt\u00f3r\u0105 wykorzystamy dla cel\u00f3w dydaktycznych jest rozwi\u0105zywalno\u015bc modelu:\n",
      "$$|\\psi_n\\rangle=|n\\rangle$$\n",
      "gdzie $|n\\rangle$ to stany w\u0142asne \"zwyk\u0142ego oscylatora\", za\u015b widmo\n",
      "$$e_n=\\epsilon_n=n-\\mu n+\\mu n^2$$\n",
      "gdzie $\\mu=\\chi/\\omega$. \n",
      "\n",
      "Pozwala to na obliczenie analityczne: \n",
      "$$\\rho_n=\\Gamma(n+1)\\mu^n\\Gamma(\\frac{\\mu n+1}{\\mu})/\\Gamma(\\frac{1}{\\mu})$$\n",
      "(ZADANIE: wykaza\u0107, mo\u017cna wykorzysta\u0107 pakiet do oblicze\u0144 symbolicznych)\n",
      "\n",
      "Zauwa\u017cmy, \u017ce w granicy oscylatora liniowego otrzymujemy  \n",
      "$$\\lim_{\\mu\\rightarrow 0}\\rho_n=\\Gamma(n+1)=n!$$\n",
      "(ZADANIE: wykaza\u0107, mo\u017cna wykorzysta\u0107 pakiet do oblicze\u0144 symbolicznych)\n",
      "\n",
      "czyli dla $\\mu=0$ GKCS staj\u0105 si\u0119 standardowymi stanami koherentymi oscylatora harmonicznego\n",
      "$$|J,\\gamma\\rangle\\rightarrow \n",
      "\\frac{1}{C(J)}\\sum_{n=0}^{\\infty}\\frac{J^{n/2}\\exp(-i\\gamma n)}{\\sqrt{n!}}|n\\rangle\n",
      "$$\n",
      "czyli \n",
      "$|J,\\gamma\\rangle\\rightarrow |z\\rangle$ gdzie $z=\\sqrt{J}\\exp(-i\\gamma)$"
     ]
    },
    {
     "cell_type": "markdown",
     "metadata": {},
     "source": [
      "Konstrukcja stan\u00f3w Gazeau-Klaudera przy uzyciu pakietu QuTip\n",
      "-------------------------------------------------------------\n",
      "A. Oscylator Kerra"
     ]
    },
    {
     "cell_type": "code",
     "collapsed": true,
     "input": [
      "from qutip import *\n",
      "from pylab import *"
     ],
     "language": "python",
     "metadata": {},
     "outputs": [],
     "prompt_number": 1
    },
    {
     "cell_type": "markdown",
     "metadata": {},
     "source": [
      "Pakiet QuTip wykorzystuje w obliczeniach obci\u0119t\u0105 przestrze\u0144 stan\u00f3w uk\u0142adu kwantowego: innymi s\u0142owy \n",
      "operuje macierzami sko\u0144czenie wymiarowymi"
     ]
    },
    {
     "cell_type": "code",
     "collapsed": true,
     "input": [
      "N=10 # wymiar przestrzenie stan\u00f3w"
     ],
     "language": "python",
     "metadata": {},
     "outputs": [],
     "prompt_number": 2
    },
    {
     "cell_type": "code",
     "collapsed": true,
     "input": [
      "chi=1.0 # amplituda nieliniowo\u015bci\n",
      "#omega=1.0"
     ],
     "language": "python",
     "metadata": {},
     "outputs": [],
     "prompt_number": 3
    },
    {
     "cell_type": "markdown",
     "metadata": {},
     "source": [
      "Konstruujemy hamiltonian uk\u0142adu wykorzystuj\u0105c operator $num(N)=a^\\dagger a$ wbudowany w pakiet Qutip:"
     ]
    },
    {
     "cell_type": "code",
     "collapsed": true,
     "input": [
      "H=num(N)+chi*(num(N)*num(N)-num(N))"
     ],
     "language": "python",
     "metadata": {},
     "outputs": [],
     "prompt_number": 4
    },
    {
     "cell_type": "markdown",
     "metadata": {},
     "source": [
      "Do konstrukcji GKCS niezb\u0119dna jest znajomo\u015b\u0107 zagadnienia w\u0142asnego operatora $H$:"
     ]
    },
    {
     "cell_type": "code",
     "collapsed": true,
     "input": [
      "kk=H.eigenstates(sort='low')"
     ],
     "language": "python",
     "metadata": {},
     "outputs": [],
     "prompt_number": 5
    },
    {
     "cell_type": "code",
     "collapsed": true,
     "input": [
      "E=kk[0] # warto\u015bci w\u0142asne\n",
      "W=kk[1] # wektory w\u0142asne"
     ],
     "language": "python",
     "metadata": {},
     "outputs": [],
     "prompt_number": 6
    },
    {
     "cell_type": "markdown",
     "metadata": {},
     "source": [
      "Zauwa\u017cmy, \u017ce w rozwa\u017canym przypadku stany w\u0142asne s\u0105 elementami bazy kanonicznej $N=10$ wymiarowej przestrzeni\n",
      "wektorowej $\\mathcal{H}(\\mathbb{C})$"
     ]
    },
    {
     "cell_type": "markdown",
     "metadata": {},
     "source": [
      "Do konstrukcji stan\u00f3w GKCS $|J,\\gamma,t\\rangle$ wykorzystamy funkcj\u0119: "
     ]
    },
    {
     "cell_type": "code",
     "collapsed": true,
     "input": [
      "def gk(J,gamma,E,W,t): # t : czas\n",
      "    E=E-E[0] #skalowanie stanu podstawowego\n",
      "    rho=1.0\n",
      "    gk=W[0]\n",
      "    for i1 in range(1,N):\n",
      "        rho=rho*E[i1]\n",
      "        gk=gk+(J**(i1/2.0)*exp(-1J*(gamma+t)*E[i1]))/(sqrt(rho))*W[i1]\n",
      "    gk=gk.unit()\n",
      "    return gk"
     ],
     "language": "python",
     "metadata": {},
     "outputs": [],
     "prompt_number": 7
    },
    {
     "cell_type": "markdown",
     "metadata": {},
     "source": [
      "ZADANIE: por\u00f3wna\u0107 numeryczne warto\u015bci $\\rho$ z analitycznymi wynikami $\\rho_n$ znanymi dla \n",
      "oscylatora Kerra"
     ]
    },
    {
     "cell_type": "markdown",
     "metadata": {},
     "source": [
      "ZADANIE: dla $\\mu=0$ obliczy\u0107 $gk(J,gamma,E,W,0)$ i por\u00f3wna\u0107 ze stanami koherentnymi oscylatora \n",
      "hamonicznego. Mo\u017cna wykorzysta\u0107 (ostro\u017cnie!) obiekt $coherent(N,z)$ (zob. QuTip manual) "
     ]
    },
    {
     "cell_type": "markdown",
     "metadata": {},
     "source": [
      "Statystyka sub-poissonowska\n",
      "---------------------------\n",
      "Podstawow\u0105 cech\u0105 \"zwyk\u0142ych\" stan\u00f3w koherentnych jest ich 'klasyczno\u015b\u0107' odzwierciedlona miedzy innymi w \n",
      "poissonowskiej statystyce foton\u00f3w. \n",
      "\n",
      "Rozwa\u017cmy parametr Mandla obliczany w stanie $\\rho$:\n",
      "$$Q=\\frac{\\langle \\hat{N}^2\\rangle-\\langle \\hat{N}\\rangle^2-\\langle \\hat{N}\\rangle}{\\langle \\hat{N}\\rangle}$$\n",
      "gdzie $\\langle \\hat{N^k}\\rangle=\\mbox{Tr}((a^\\dagger a)^k \\rho)$\n",
      "\n",
      "Dla \"zwyk\u0142ych\" stan\u00f3w koherentnych $Q=0$ (statystyka foton\u00f3w jest poissonowska). \n",
      "W przypadku, gdy $Q\\lt 0$ (statystyka sub-poissonowska) mamy do czynienia ze stanami nieklasycznymi,\n",
      "szeroko i szczeg\u00f3\u0142owo badanymi w optyce kwantowej. \n",
      "\n",
      "Naszym celem b\u0119dzie okre\u015blenie warto\u015bci $Q$ dla GKCS obliczonych dla o\u015brodka Kerra. "
     ]
    },
    {
     "cell_type": "markdown",
     "metadata": {},
     "source": [
      "Funkcja $mandel(rho)$ oblicza warto\u015b\u0107 parametru $Q$ w stanie $\\rho$:"
     ]
    },
    {
     "cell_type": "code",
     "collapsed": true,
     "input": [
      "def mandel(rho): # UWAGA: rho jest macierz\u0105 g\u0119sto\u015bci (QuTip quantum object)\n",
      "    N=dims(rho)[0][0] # okre\u015blenie wymiaru macierzy (przestrzeni stan\u00f3w)\n",
      "    Q=(num(N)*num(N)*rho).tr()-((num(N)*rho).tr())**2.0-(num(N)*rho).tr()\n",
      "    Q=Q/((num(N)*rho).tr())\n",
      "    return Q"
     ],
     "language": "python",
     "metadata": {},
     "outputs": [],
     "prompt_number": 8
    },
    {
     "cell_type": "markdown",
     "metadata": {},
     "source": [
      "Aby zilustrowa\u0107 graficznie wp\u0142yw nieliniowo\u015bci ($\\chi$) na warto\u015b\u0107 parametru $Q$ stan\u00f3w GKCS okre\u015blamy warto\u015bci \n",
      "parametru $\\chi$, dla kt\u00f3rych chcemy obliczy\u0107 $Q$:"
     ]
    },
    {
     "cell_type": "code",
     "collapsed": true,
     "input": [
      "chi_list=linspace(0.0,10.0,30) # lista od 0 do 1.0 o 20 elementach"
     ],
     "language": "python",
     "metadata": {},
     "outputs": [],
     "prompt_number": 9
    },
    {
     "cell_type": "code",
     "collapsed": true,
     "input": [
      "mandel_list=zeros(len(chi_list)) # lista wynik\u00f3w $Q$ dla odpowiednich $\\chi$\n",
      "for i1 in range(0,len(chi_list)):\n",
      "    chi=chi_list[i1] # warto\u015b\u0107 $\\chi$\n",
      "    HH=num(N)+chi*(num(N)*num(N)-num(N)) # posta\u0107 hamiltonianiu\n",
      "    kkk=HH.eigenstates(sort='low') # zagadnienie w\u0142asne\n",
      "    EE=kkk[0] # warto\u015bci w\u0142asne\n",
      "    WW=kkk[1] # wektory w\u0142asne\n",
      "    psi=gk(0.1,0,EE,WW,0) # GKCS dla HH\n",
      "    mandel_list[i1]=real(mandel(psi*psi.dag())) # macierz g\u0119stosci w agrumencie mandel "
     ],
     "language": "python",
     "metadata": {},
     "outputs": [],
     "prompt_number": 10
    },
    {
     "cell_type": "markdown",
     "metadata": {},
     "source": [
      "UWAGA: funkcja $mandel(rho)$ wymaga macierzy g\u0119sto\u015bci $\\rho=|\\psi\\rangle\\langle\\psi|\n",
      "=|\\psi\\rangle (|\\psi\\rangle)^\\dagger$ czyli $psi*psi.dag()$"
     ]
    },
    {
     "cell_type": "code",
     "collapsed": true,
     "input": [
      "plot(chi_list,mandel_list)\n",
      "show() # wykres"
     ],
     "language": "python",
     "metadata": {},
     "outputs": [],
     "prompt_number": 11
    },
    {
     "cell_type": "markdown",
     "metadata": {},
     "source": [
      "Zauwa\u017cmy, \u017ce dla $\\mu=0$ (oscylator harmoniczny) $Q=0$, jak nale\u017ca\u0142o si\u0119 spodziewa\u0107. "
     ]
    },
    {
     "cell_type": "markdown",
     "metadata": {},
     "source": [
      "Temporalna stabilno\u015b\u0107\n",
      "---------------------\n",
      "\n",
      "W\u0142asno\u015b\u0107 t\u0119 wykorzystamy do por\u00f3wnania stanu $|J,\\gamma,t\\rangle$ ze stanem \n",
      "$$|\\psi(t)\\rangle=U(t)|J,\\gamma,0\\rangle$$\n",
      "innymi s\u0142owy: przetestujemy skuteczno\u015b\u0107 metody numerycznej $mesolve$"
     ]
    },
    {
     "cell_type": "markdown",
     "metadata": {},
     "source": [
      "Na wst\u0119pie okre\u015blamy siatk\u0119 chwil (czasu), dla kt\u00f3rych obliczymy $|\\psi(t)\\rangle$ oraz stan pocz\u0105tkowy \n",
      "$|\\psi(0)\\rangle$:"
     ]
    },
    {
     "cell_type": "code",
     "collapsed": true,
     "input": [
      "tlist=linspace(0.0,10.0,10)# czas\n",
      "psi0=gk(1.0,0,E,W,0) #stan poczatkowy"
     ],
     "language": "python",
     "metadata": {},
     "outputs": []
    },
    {
     "cell_type": "markdown",
     "metadata": {},
     "source": [
      "Nast\u0119pnie wykorzystujemy procedur\u0119 $mesolve$ (zob. QuTip manual) "
     ]
    },
    {
     "cell_type": "code",
     "collapsed": true,
     "input": [
      "qq=mesolve(H, psi0, tlist, [], [])"
     ],
     "language": "python",
     "metadata": {},
     "outputs": [],
     "prompt_number": 69
    },
    {
     "cell_type": "markdown",
     "metadata": {},
     "source": [
      "Dla okre\u015blenia jako\u015bci oblicze\u0144 numerycznych obliczamy fidelity:\n",
      "$$F=\\langle\\psi(t)|J,\\gamma,t\\rangle$$\n",
      "w wybranej chwili:"
     ]
    },
    {
     "cell_type": "code",
     "collapsed": false,
     "input": [
      "print(((qq.states[9]).dag())*gk(1.0,0.0,E,W,10.0))"
     ],
     "language": "python",
     "metadata": {},
     "outputs": [
      {
       "output_type": "stream",
       "stream": "stdout",
       "text": [
        "Quantum object: dims = [[1], [1]], shape = [1, 1], type = oper, isherm = False\n",
        "Qobj data =\n",
        "[[ 1. -1.21272910e-10j]]"
       ]
      }
     ],
     "prompt_number": 70
    },
    {
     "cell_type": "markdown",
     "metadata": {},
     "source": [
      "Uzyskany wynik nie powienien r\u00f3\u017cni\u0107 si\u0119 znacz\u0105co od jedno\u015bci. "
     ]
    },
    {
     "cell_type": "markdown",
     "metadata": {},
     "source": [
      "ZADANIA:\n",
      "--------\n",
      "1)  Zilustrowa\u0107 graficznie ewolucj\u0119 w czasie parametru $Q$ dla oscylatora Kerra o r\u00f3\u017cnych warto\u015bciach $\\mu$\n",
      "\n",
      "2) Zbudowa\u0107 GKCS dla uk\u0142adu opisywanego hamiltonianem:\n",
      "$$H=a^\\dagger a - \\mu \\cos(a+a^\\dagger)$$\n",
      "UWAGA: $\\cos(\\hat{X})=\\frac{1}{2}(\\exp(i\\hat{X})+\\exp(-i\\hat{X}))$, mo\u017cna wykorzysta\u0107 $expm()$ \n",
      "(zob. Qutip manual)\n",
      "\n",
      "Model ten opisuje kwantowe w\u0142asno\u015bci z\u0142\u0105cz Josephsona\n",
      "\n",
      "3) Zilustrowa\u0107 graficznie ewolucj\u0119 w czasie parametru $Q$ dla powy\u017cszego modelu.\n",
      "\n",
      "4) Przebada\u0107 w\u0142asno\u015bci GKCS w zale\u017cno\u015bci od parametru $\\gamma$"
     ]
    }
   ],
   "metadata": {}
  }
 ]
}