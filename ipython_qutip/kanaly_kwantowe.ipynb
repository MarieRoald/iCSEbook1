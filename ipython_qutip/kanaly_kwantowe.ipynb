{
 "metadata": {
  "name": ""
 },
 "nbformat": 3,
 "nbformat_minor": 0,
 "worksheets": [
  {
   "cells": [
    {
     "cell_type": "markdown",
     "metadata": {},
     "source": [
      "Kana\u0142y kwantowe\n",
      "===============\n",
      "\n",
      "Plan\n",
      "----\n",
      "1. Kana\u0142y kwantowe: definicja i zastosowania\n",
      "2. Reprezentacja Kraussa kana\u0142\u00f3w kwantowych\n",
      "3. Przyk\u0142ady kana\u0142\u00f3w kwantowych\n",
      "4. Uk\u0142ady z\u0142o\u017cone\n",
      "5. Wizualizacja wp\u0142ywu kana\u0142\u00f3w kwantowych na w\u0142aso\u015bci stan\u00f3w\n",
      "6. Zadania"
     ]
    },
    {
     "cell_type": "markdown",
     "metadata": {},
     "source": [
      "Kana\u0142y kwantowe, inaczej opracje kwantowe, to najbardziej podstawowa forma zapisu dla transformacji stanu kwantowego bez wnikania w wewn\u0119trzn\u0105 natur\u0119 procesu. Najpro\u015bciej m\u00f3wi\u0105c kana\u0142 kwantowy to operacja\n",
      "\n",
      "$\\rho\\rightarrow \\rho'=E(\\rho)$\n",
      "\n",
      "Opis taki ma szereg zastosowa\u0144. Mo\u017ce obrazowa\u0107 ewolucj\u0119 kwantow\u0105, dekoherencj\u0119, operacje kwantowe zwi\u0105zane z kwantowymi bramkami logicznymi. \n",
      "\n",
      "Tutaj ograniczymy si\u0119 do przypadku, gdy $\\rho'$ jest stanem, to znaczy zak\u0142adamy, \u017ce kana\u0142 kwantowy ma __reprezentacj\u0119 Kraussa__: \n",
      "\n",
      "$E(\\rho)=\\sum_i K_i \\rho K_i^\\dagger$\n",
      "\n",
      "ograniczenie to oznacza, \u017ce nie rozwa\u017camy problem\u00f3w niemarkowowskich (zale\u017cnych od czasu) oraz pomiar\u00f3w kwantowych. \n",
      "\n",
      "Operatory  $K_i$ spe\u0142nia\u0107 musz\u0105 warunek:\n",
      "\n",
      "$\\sum_i K_i^\\dagger K_i\\le\\mathbf{I}$\n",
      " \n",
      "__Uwaga__ warunek $\\sum_i K_i^\\dagger K_i=\\mathbf{I}$ gwarantuje, \u017ce $E(\\rho)$ jest stanem\n"
     ]
    },
    {
     "cell_type": "markdown",
     "metadata": {},
     "source": [
      "Dla zilustriowania uzyteczno\u015bci formalizmu Kraussa rozwa\u017cmy ewolucj\u0119 unitarn\u0105 uk\u0142adu $A$ i jego \"otoczenia\" $B$:\n",
      "\n",
      "$\\rho^{AB}=U^{AB} \\rho^A\\otimes |i_B\\rangle\\langle i_B| U^{AB\\dagger}$\n",
      "\n",
      "obliczaj\u0105c \u015blad cz\u0119\u015bciowy: \n",
      "\n",
      "$\\rho_A'=\\mbox{Tr}_B \\rho^{AB} =\\sum_n \\langle e_n^B|U^{AB}|i^B\\rangle \\rho^A \\langle i^B |U^{AB\\dagger} |e_n^B\\rangle$\n",
      "\n",
      "wprowadzaj\u0105c $K_n =\\langle e_n^B|U^{AB}|i^B\\rangle$\n",
      "\n",
      "otrzymujemy \n",
      "\n",
      "$E(\\rho^A)=\\sum_n K_n\\rho^A k_n^\\dagger$\n",
      "\n",
      "Zauwa\u017cmy, \u017ce \n",
      "\n",
      "$\\sum_n K_n^\\dagger K_n=\\mathbf{I}$"
     ]
    },
    {
     "cell_type": "markdown",
     "metadata": {},
     "source": [
      "Dalej zbudujemy implementacj\u0119 numeryczn\u0105 najbardziej typowych kana\u0142\u00f3w kwantowych. Ograniczamy si\u0119 do kana\u0142\u00f3w kwantowych okre\u015blonych na stanach qubit\u00f3w:"
     ]
    },
    {
     "cell_type": "code",
     "collapsed": false,
     "input": [
      "from qutip import *\n",
      "from pylab import *"
     ],
     "language": "python",
     "metadata": {},
     "outputs": [],
     "prompt_number": 1
    },
    {
     "cell_type": "markdown",
     "metadata": {},
     "source": [
      "Wprowad\u017amy uproszczone oznaczenia dla wektor\u00f3w bazy:"
     ]
    },
    {
     "cell_type": "code",
     "collapsed": false,
     "input": [
      "up=basis(2,0)\n",
      "dn=basis(2,1)"
     ],
     "language": "python",
     "metadata": {},
     "outputs": [],
     "prompt_number": 2
    },
    {
     "cell_type": "markdown",
     "metadata": {},
     "source": [
      "oraz macierzy bazowych"
     ]
    },
    {
     "cell_type": "code",
     "collapsed": false,
     "input": [
      "rpp=up*up.dag()\n",
      "rpm=up*dn.dag()\n",
      "rmp=rpm.trans()\n",
      "rmm=dn*dn.dag()"
     ],
     "language": "python",
     "metadata": {},
     "outputs": [],
     "prompt_number": 3
    },
    {
     "cell_type": "markdown",
     "metadata": {},
     "source": [
      "nast\u0119pnie zdefiniujemy funkcj\u0119 depol() opisuj\u0105c\u0105 __kana\u0142 depolaryzacujmy__:\n",
      "\n",
      "$E(\\rho)=\\sum_{n=0}^4  K_n \\rho K_n$, \n",
      "\n",
      "gdzie $K_0=\\sqrt{1-p}\\mathbf{I}$ za\u015b $K_i=\\sqrt{p/3}\\sigma_i$, $i=x,y,x$"
     ]
    },
    {
     "cell_type": "code",
     "collapsed": false,
     "input": [
      "def depol(rho,p):\n",
      "    K0=sqrt(1.0-p)*qeye(2)\n",
      "    K1=sqrt(p/3.0)*sigmax()\n",
      "    K2=sqrt(p/3.0)*sigmay()\n",
      "    K3=sqrt(p/3.0)*sigmaz()\n",
      "    x=K0*rho*K0.dag()+K1*rho*K1.dag()+K2*rho*K2.dag()+K3*rho*K3.dag()\n",
      "    return x"
     ],
     "language": "python",
     "metadata": {},
     "outputs": [],
     "prompt_number": 4
    },
    {
     "cell_type": "markdown",
     "metadata": {},
     "source": [
      "Mo\u017cemy sprawdzi\u0107 dla wybranych $p$ warunek zachowania \u015bladu:\n",
      "$\\sum_n K_n^\\dagger K_n=\\mathbf{I}$:"
     ]
    },
    {
     "cell_type": "code",
     "collapsed": false,
     "input": [
      "p=0.8\n",
      "K0=sqrt(1.0-p)*qeye(2)\n",
      "K1=sqrt(p/3.0)*sigmax()\n",
      "K2=sqrt(p/3.0)*sigmay()\n",
      "K3=sqrt(p/3.0)*sigmaz()\n",
      "K0*K0.dag()+K1*K1.dag()+K2*K2.dag()+K3*K3.dag()"
     ],
     "language": "python",
     "metadata": {},
     "outputs": [
      {
       "latex": [
        "\\begin{equation}\\text{Quantum object: dims = [[2], [2]], shape = [2, 2], type = oper, isHerm = True}\\\\[1em]\\begin{pmatrix}1.0 & 0.0\\\\0.0 & 1.0\\\\\\end{pmatrix}\\end{equation}"
       ],
       "metadata": {},
       "output_type": "pyout",
       "prompt_number": 5,
       "text": [
        "Quantum object: dims = [[2], [2]], shape = [2, 2], type = oper, isherm = True\n",
        "Qobj data =\n",
        "[[ 1.  0.]\n",
        " [ 0.  1.]]"
       ]
      }
     ],
     "prompt_number": 5
    },
    {
     "cell_type": "markdown",
     "metadata": {},
     "source": [
      "Kolejnym u\u017cytecznym kana\u0142em jest kana\u0142 __t\u0142umienia fazy__ (phase damping channel). \n",
      "\n",
      "$K_0=|1\\rangle\\langle 1| +\\sqrt{1-p}|0\\rangle\\langle 0|$, $K_1=\\sqrt{p} |1\\rangle\\langle 0|$\n",
      "\n",
      "dzia\u0142anie takiego kana\u0142u opisuje funkcja damp():"
     ]
    },
    {
     "cell_type": "code",
     "collapsed": false,
     "input": [
      "def damp(rho,p):\n",
      "    K0=rpp+sqrt(1.0-p)*rmm\n",
      "    K1=sqrt(p)*rpm\n",
      "    x=K0*rho*K0.dag()+K1*rho*K1.dag()\n",
      "    return x"
     ],
     "language": "python",
     "metadata": {},
     "outputs": [],
     "prompt_number": 6
    },
    {
     "cell_type": "markdown",
     "metadata": {},
     "source": [
      "Ostanim z rozwa\u017canych typ\u00f3w kana\u0142\u00f3w jest kana\u0142 odwr\u00f3cenia fazu (phase flip channel) opisany funkcj\u0105 flip():"
     ]
    },
    {
     "cell_type": "code",
     "collapsed": false,
     "input": [
      "def flip(rho,p):\n",
      "    K0=sqrt(p)*sigmaz()\n",
      "    K1=sqrt(1.0-p)*qeye(2)\n",
      "    x=K0*rho*K0.dag()+K1*rho*K1.dag()\n",
      "    return x"
     ],
     "language": "python",
     "metadata": {},
     "outputs": [],
     "prompt_number": 7
    },
    {
     "cell_type": "markdown",
     "metadata": {},
     "source": [
      "Teraz jeste\u015bmy gotowi do przygotowania wizualizacji wybranej charakterystyki kana\u0142u. Za\u0142o\u017cymy na wej\u015bciu stan czysty: "
     ]
    },
    {
     "cell_type": "code",
     "collapsed": false,
     "input": [
      "psi=(up+dn).unit()"
     ],
     "language": "python",
     "metadata": {},
     "outputs": [],
     "prompt_number": 8
    },
    {
     "cell_type": "markdown",
     "metadata": {},
     "source": [
      "i jego macierz g\u0119sto\u015bci:"
     ]
    },
    {
     "cell_type": "code",
     "collapsed": false,
     "input": [
      "rho=ket2dm(psi)"
     ],
     "language": "python",
     "metadata": {},
     "outputs": [],
     "prompt_number": 9
    },
    {
     "cell_type": "markdown",
     "metadata": {},
     "source": [
      "W nast\u0119pnym kroku zdefiniujemy listy z warto\u015bciami $p$ oraz wynikami:"
     ]
    },
    {
     "cell_type": "code",
     "collapsed": false,
     "input": [
      "plist=linspace(0,1.0,10.0)\n",
      "slist=zeros(len(plist))"
     ],
     "language": "python",
     "metadata": {},
     "outputs": [],
     "prompt_number": 10
    },
    {
     "cell_type": "markdown",
     "metadata": {},
     "source": [
      "Niech intersuj\u0105c\u0105 charakterystyk\u0105 stanu wyj\u015bciowego b\u0119dzie entropia von Neumanna:"
     ]
    },
    {
     "cell_type": "code",
     "collapsed": false,
     "input": [
      "for i1 in range(len(plist)):\n",
      "    p=plist[i1]\n",
      "    rho1=depol(rho,p)\n",
      "    slist[i1]=entropy_vn(rho1)"
     ],
     "language": "python",
     "metadata": {},
     "outputs": [],
     "prompt_number": 11
    },
    {
     "cell_type": "markdown",
     "metadata": {},
     "source": [
      "Uzyskany wynik mo\u017cemy wykre\u015bli\u0107:"
     ]
    },
    {
     "cell_type": "code",
     "collapsed": false,
     "input": [
      "plot(plist,slist,'-',label='', linewidth=4)\n",
      "xlabel('p',fontsize=20)\n",
      "ylabel('SvN',fontsize=20)\n",
      "show()"
     ],
     "language": "python",
     "metadata": {},
     "outputs": [],
     "prompt_number": 12
    },
    {
     "cell_type": "markdown",
     "metadata": {},
     "source": [
      "Teraz rozwa\u017cmy problem bardziej z\u0142o\u017cony. Za\u0142\u00f3\u017cmy, \u017ce w parze qubit\u00f3w przygotowanych w stanie  Bella:"
     ]
    },
    {
     "cell_type": "code",
     "collapsed": false,
     "input": [
      "BB0=(tensor(rpp,rmm)+tensor(rpm,rmp)+tensor(rmp,rpm)+tensor(rmm,rpp))/2.0"
     ],
     "language": "python",
     "metadata": {},
     "outputs": [],
     "prompt_number": 13
    },
    {
     "cell_type": "markdown",
     "metadata": {},
     "source": [
      "jeden z qubit\u00f3w podlega kana\u0142owi depolaryzacyjnemu z $p=0.4$. Sp\u00f3bujmy okre\u015bli\u0107 wp\u0142yw tego kana\u0142u na warto\u015b\u0107 spl\u0105tania stanu pary qubit\u00f3w. Rozpocznujmy od obliczenia dzia\u0142ania depolaryzacji na stany bazowe:"
     ]
    },
    {
     "cell_type": "code",
     "collapsed": false,
     "input": [
      "p=0.4\n",
      "rpp1=depol(rpp,p)\n",
      "rpm1=depol(rpm,p)\n",
      "rmp1=depol(rmp,p)\n",
      "rmm1=depol(rmm,p)"
     ],
     "language": "python",
     "metadata": {},
     "outputs": [],
     "prompt_number": 14
    },
    {
     "cell_type": "markdown",
     "metadata": {},
     "source": [
      "nast\u0119pnie przekszta\u0142\u0107my stan Bella:"
     ]
    },
    {
     "cell_type": "code",
     "collapsed": false,
     "input": [
      "BB0_E=(tensor(rpp1,rmm)+tensor(rpm1,rmp)+tensor(rmp1,rpm)+tensor(rmm1,rpp))/2.0 "
     ],
     "language": "python",
     "metadata": {},
     "outputs": [],
     "prompt_number": 15
    },
    {
     "cell_type": "markdown",
     "metadata": {},
     "source": [
      "i ostatecznie obliczmy jego spl\u0105tanie wykorzystuj\u0105c funkcj\u0119 concurrence():"
     ]
    },
    {
     "cell_type": "code",
     "collapsed": false,
     "input": [
      "concurrence(BB0_E)"
     ],
     "language": "python",
     "metadata": {},
     "outputs": [
      {
       "metadata": {},
       "output_type": "pyout",
       "prompt_number": 16,
       "text": [
        "0.20000000000000012"
       ]
      }
     ],
     "prompt_number": 16
    },
    {
     "cell_type": "markdown",
     "metadata": {},
     "source": [
      "Zadania\n",
      "-------\n",
      "\n",
      "1. Wykre\u015bli\u0107 entropi\u0119 w  funkcji $p$ dla pozosta\u0142ych kana\u0142\u00f3w omawianych powy\u017cej\n",
      "2. Wykre\u015bli\u0107 spl\u0105tanie zdepolaryzowanego stanu Bella  w funkcji p. \n",
      "3. Wykre\u015bli\u0107 spl\u0105tanie  stanu Bella zmodyfikowanego ze pomoc\u0105 innych omawianych kana\u0142\u00f3w w funkcji p."
     ]
    },
    {
     "cell_type": "code",
     "collapsed": false,
     "input": [],
     "language": "python",
     "metadata": {},
     "outputs": []
    }
   ],
   "metadata": {}
  }
 ]
}