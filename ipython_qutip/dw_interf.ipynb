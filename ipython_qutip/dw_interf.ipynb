{
 "metadata": {
  "name": ""
 },
 "nbformat": 3,
 "nbformat_minor": 0,
 "worksheets": [
  {
   "cells": [
    {
     "cell_type": "markdown",
     "metadata": {},
     "source": [
      "Dzielniki wi\u0105zki i interferometry\n",
      "=================================\n",
      "\n",
      "Plan\n",
      "----\n",
      "\n",
      "1. Kwantowy opis dzielnika wi\u0105zki\n",
      "2. Implemantacja numeryczna dzielnika wi\u0105zki\n",
      "3. Interferometr Macha-Zendera\n",
      "4. Implementacja numeryczna interferometru\n",
      "5. Interferencja: wizualizacja wynik\u00f3w\n",
      "6. Zadania\n"
     ]
    },
    {
     "cell_type": "markdown",
     "metadata": {},
     "source": [
      "Dzielniki wiazki (BS: beam splitters) s\u0105 podstawowymi elementami optycznymi wykorzystywanymi w eksperymentach. W eksperymencie realizuje si\u0119 go za pomoc\u0105 p\u0142ytki p\u00f3\u0142przepuszczalnej, to jest takiej, kt\u00f3ra z okre\u015blonym prawdopodobie\u0144twem mo\u017ce odbi\u0107 lub przepu\u015bci\u0107 padaj\u0105cy foton. Poni\u017cszy wykres ustala notacj\u0119:\n",
      "\n",
      "$\n",
      "\\begin{array}{ccc}\n",
      "0 \\searrow & \\,\\,\\,\\, & \\nearrow 0 \\\\\n",
      "\\,\\,\\,\\,\\, & -----\\mbox{BS}---- &\\, \\\\\n",
      " 1 \\nearrow & \\,\\,\\,\\, & \\searrow 1\n",
      "\\end{array}\n",
      "$\n",
      "\n",
      "__Uwaga!__  Pe\u0142ny opis kwantowy __wymaga__ u\u017cycia a\u017c czterech wi\u0105zek (p\u00f3l bozonowych).  "
     ]
    },
    {
     "cell_type": "markdown",
     "metadata": {},
     "source": [
      "Z punktu widzenie opisu kwantowego dzielnik wi\u0105zki mo\u017cna opisa\u0107 poprzez operacj\u0119 unitarn\u0105\n",
      "\n",
      "$|\\psi'\\rangle=U|\\psi\\rangle$\n",
      "\n",
      "gdzie \n",
      "\n",
      "$\n",
      "U=\\exp(i\\kappa)\\left(\\begin{array}{cc}  \\rho e^{i\\delta_r} & -\\tau e^{-i\\delta_t} \\\\\n",
      "                     \\tau e^{i\\delta_t} & \\rho e^{i\\delta_r} \n",
      "\\end{array}\\right)\n",
      "$\n",
      "\n",
      "$\\tau$ oraz $\\rho$ opisuj\u0105 odpowiednio transmisj\u0119 i odbicie fotonu, za\u015b $\\delta_{t,r}$ to odpowiednie fazy uzyskiwane przez fotony. \n",
      "\n",
      "Pami\u0119tajmy o relacji\n",
      "\n",
      "$\\tau^2+\\rho^2=1$\n",
      "\n",
      "odzwierciedlaj\u0105cej zachowanie prawdopodobie\u0144stwa.\n",
      "\n",
      "Rozwa\u017cmy szczeg\u00f3lne przypadki:\n",
      "\n",
      "__1__\n",
      "\n",
      "$\n",
      "U_1=\\left(\\begin{array}{cc}  i\\rho  & \\tau  \\\\\n",
      "                     \\tau  & i\\rho  \n",
      "\\end{array}\\right)\n",
      "$\n",
      "\n",
      "Za\u0142\u00f3\u017cmy, \u017ce $\\tau=\\rho$. \n",
      "Je\u015bli przyjmiemy, \u017ce na dzielnik pada tylko wi\u0105zka $0$ w\u00f3wczas na wyj\u015bciu dzialnika otrzymujemy superpozycj\u0119: \n",
      "\n",
      "$U_1|0\\rangle = \\frac{1}{\\sqrt{2}}(i|0\\rangle+|1\\rangle)$\n",
      "\n",
      "podobnie je\u015bli wi\u0105zka padaj\u0105ce to $1$\n",
      "\n",
      "$U_1|1\\rangle = \\frac{1}{\\sqrt{2}}(i|1\\rangle+|0\\rangle)$"
     ]
    },
    {
     "cell_type": "markdown",
     "metadata": {},
     "source": [
      "__2__\n",
      "\n",
      "Bardzio istotnym dla zastosowa\u0144 jest dzielnik wi\u0105zki nast\u0119pujacej postaci \n",
      "\n",
      "$\n",
      "U_2=\\left(\\begin{array}{cc}  \\rho  & \\tau  \\\\\n",
      "                     \\tau  & -\\rho  \n",
      "\\end{array}\\right)\n",
      "$\n",
      "\n",
      "przyczyna staje si\u0119 jasna, gdy zauwa\u017cymy, \u017ce przy warunku $\\tai=\\rho$\n",
      "\n",
      "$U_2=H$\n",
      "\n",
      "gdzie \n",
      "\n",
      "$\n",
      "H=\\frac{1}{\\sqrt{2}}\\left(\\begin{array}{cc}  1  & 1  \\\\\n",
      "                     1  & -1  \n",
      "\\end{array}\\right)\n",
      "$\n",
      "\n",
      "jest __bramk\u0105 Hadamarda__ "
     ]
    },
    {
     "cell_type": "markdown",
     "metadata": {},
     "source": [
      "Przyst\u0105pmy teraz do konstrukcji implementacji numerycznej dzielnika wi\u0105zki. W pierwszym kroku zaimportujmy narz\u0119dzia:"
     ]
    },
    {
     "cell_type": "code",
     "collapsed": false,
     "input": [
      "from qutip import *\n",
      "from pylab import *"
     ],
     "language": "python",
     "metadata": {},
     "outputs": [],
     "prompt_number": 1
    },
    {
     "cell_type": "markdown",
     "metadata": {},
     "source": [
      "Nast\u0119pnie wprowad\u017amy uzyteczne skr\u00f3ty dla wektor\u00f3w bazowych: "
     ]
    },
    {
     "cell_type": "code",
     "collapsed": false,
     "input": [
      "up=basis(2,0)\n",
      "dn=basis(2,1)"
     ],
     "language": "python",
     "metadata": {},
     "outputs": [],
     "prompt_number": 2
    },
    {
     "cell_type": "markdown",
     "metadata": {},
     "source": [
      "oraz macierzy bazowych:"
     ]
    },
    {
     "cell_type": "code",
     "collapsed": false,
     "input": [
      "rpp=up*up.dag()\n",
      "rpm=up*dn.dag()\n",
      "rmp=rpm.trans()\n",
      "rmm=dn*dn.dag()"
     ],
     "language": "python",
     "metadata": {},
     "outputs": [],
     "prompt_number": 3
    },
    {
     "cell_type": "markdown",
     "metadata": {},
     "source": [
      "Teraz jeste\u015bmy gotowi zdefiniowa\u0107 dzielnik wi\u0105zki jako funkcj\u0119 BS(), kt\u00f3rej argumentami s\u0105 parametry dzielnika, za\u015b na wyj\u015bciu otrzymujemy macierz $U$:"
     ]
    },
    {
     "cell_type": "code",
     "collapsed": false,
     "input": [
      "def BS(k,r,t,dr,dt):\n",
      "    U=r*exp(1j*dr)*rpp-t*exp(-1j*dt)*rpm+t*exp(1j*dt)*rmp+r*exp(-1j*dr)*rmm\n",
      "    return U"
     ],
     "language": "python",
     "metadata": {},
     "outputs": [],
     "prompt_number": 5
    },
    {
     "cell_type": "markdown",
     "metadata": {},
     "source": [
      "Szczeg\u00f3lne przypadki zdefiniujemy osobno:"
     ]
    },
    {
     "cell_type": "code",
     "collapsed": false,
     "input": [
      "def U1(r,t):\n",
      "    U=1j*r*rpp+t*(rpm+rmp)+1j*r*rmm\n",
      "    return U"
     ],
     "language": "python",
     "metadata": {},
     "outputs": [],
     "prompt_number": 6
    },
    {
     "cell_type": "code",
     "collapsed": false,
     "input": [
      "def U2(r,t):\n",
      "    U=r*(rpp-rmm)+t*(rpm+rmp)\n",
      "    return U"
     ],
     "language": "python",
     "metadata": {},
     "outputs": [],
     "prompt_number": 8
    },
    {
     "cell_type": "markdown",
     "metadata": {},
     "source": [
      "Teraz mo\u017cemy zdefiniowa\u0107 interferometr zbudowany z dwu dzielnik\u00f3w wi\u0105zki (BS) oraz dwu zwierciade\u0142 (M) i bramki fazy $\\phi(\\alpha)$\n",
      "\n",
      "$\n",
      "\\begin{array}{cccccccc}\n",
      "\\,         & \\, & \\,         & =M= & \\,         & \\,& \\,  & D0      \\\\       \n",
      "0 \\searrow & \\, & \\nearrow 0 &\\, & 0 \\searrow & \\,& \\nearrow 0 & \\,\\\\\n",
      " \\,        & -BS- & \\,         & \\,&\\,  & -BS- & \\,  &\\,\\\\     \n",
      "1 \\nearrow & \\, & \\searrow 1 & \\, &1  \\nearrow +\\phi(-\\alpha) & \\,&\\searrow 1 &\\,\\\\\n",
      "\\,         & \\, & \\,         & =M= & \\,         & \\,& \\,& D1        \n",
      "\\end{array}\n",
      "$\n",
      "\n",
      "na wyj\u015bciu interferometru imieszczamy detektory D0 oraz D1 odpowiednich wi\u0105zek. \n",
      "\n",
      "Symbolicznie interferometr Macha Zendera mo\u017cemy zapisa\u0107 w postaci\n",
      "\n",
      "$ \\rightarrow H \\rightarrow \\phi(-\\alpha) \\rightarrow H \\rightarrow$\n",
      "\n",
      "gdzie $H$ to bramka Hadamarda, za\u015b \n",
      "\n",
      "$\\phi(\\alpha)=\\left( \\begin{array}{cc}\n",
      "1 & 0\\\\\n",
      "0 & e^{i\\alpha}\n",
      "\\end{array}\\right)$\n",
      "\n",
      "jest bramk\u0105 fazy."
     ]
    },
    {
     "cell_type": "markdown",
     "metadata": {},
     "source": [
      "Dzia\u0142anie interferometru opiszemy za pomoc\u0105 funkcji MZ(). Wykorzystali\u015bmy funkcje snot() oraz phasegate() przy implementacji bramki H oraz $\\phi$. Oczywi\u015bcie r\u00f3wnie dobrze mogliby\u015bmy u\u017cy\u0107 funkcji $U_1()$ zdefinowanej powy\u017cej.   "
     ]
    },
    {
     "cell_type": "code",
     "collapsed": false,
     "input": [
      "def MZ(psi,phi):\n",
      "    U=snot()*phasegate(-phi)*snot()\n",
      "    return U*psi"
     ],
     "language": "python",
     "metadata": {},
     "outputs": [],
     "prompt_number": 9
    },
    {
     "cell_type": "markdown",
     "metadata": {},
     "source": [
      "Wynikiem dzia\u0142ania funkcji MZ() jest stan wi\u0105zki na wyj\u015bciu interferometru. Na przk\u0142ad, je\u015bli na wej\u015bciu mieli\u015bmy \n",
      "tylko wi\u0105zk\u0119 $0$, a przesuni\u0119cie fazowe ustawione na $\\alpha=\\pi/4$ to otrzymujemy:"
     ]
    },
    {
     "cell_type": "code",
     "collapsed": false,
     "input": [
      "MZ(dn,pi/4)"
     ],
     "language": "python",
     "metadata": {},
     "outputs": [
      {
       "latex": [
        "\\begin{equation}\\text{Quantum object: dims = [[2], [1]], shape = [2, 1], type = ket}\\\\[1em]\\begin{pmatrix}(0.146446609407+0.353553390593j)\\\\(0.853553390593-0.353553390593j)\\\\\\end{pmatrix}\\end{equation}"
       ],
       "metadata": {},
       "output_type": "pyout",
       "prompt_number": 10,
       "text": [
        "Quantum object: dims = [[2], [1]], shape = [2, 1], type = ket\n",
        "Qobj data =\n",
        "[[ 0.14644661+0.35355339j]\n",
        " [ 0.85355339-0.35355339j]]"
       ]
      }
     ],
     "prompt_number": 10
    },
    {
     "cell_type": "markdown",
     "metadata": {},
     "source": [
      "Szaczeg\u00f3lnie istotne dla zatosowa\u0144 jest okre\u015blenie wyniku pomiaru przez detektory D0 oraz D1. Prawdopodobie\u0144stwo detekcji przez D0 okre\u015bla \n",
      "\n",
      "$p_0=|\\langle input|output \\rangle|^2$\n",
      "\n",
      "opisane funkcj\u0105 P0():\n"
     ]
    },
    {
     "cell_type": "code",
     "collapsed": false,
     "input": [
      "def P0(psi,phi):\n",
      "    xi=MZ(psi,phi)\n",
      "    p0=((dn.dag()*xi).norm())**2.0\n",
      "    return p0"
     ],
     "language": "python",
     "metadata": {},
     "outputs": [],
     "prompt_number": 11
    },
    {
     "cell_type": "markdown",
     "metadata": {},
     "source": [
      "Funkcja ta, zastosowana do powy\u017cszego przyk\u0142adu daje:"
     ]
    },
    {
     "cell_type": "code",
     "collapsed": false,
     "input": [
      "print(P0(dn,pi/4.0))\n",
      "print(1.0/2.0*(1.0+cos(pi/4.0)))"
     ],
     "language": "python",
     "metadata": {},
     "outputs": [
      {
       "output_type": "stream",
       "stream": "stdout",
       "text": [
        "0.853553390593\n",
        "0.853553390593\n"
       ]
      }
     ],
     "prompt_number": 12
    },
    {
     "cell_type": "markdown",
     "metadata": {},
     "source": [
      "Dalej spr\u00f3bujemy zwizualiziwa\u0107 prawdopodobie\u0144stwo detekcji wi\u0105zki $0$ w postaci graficznej. W pierwszym kroku okre\u015blamy warto\u015bci przesuni\u0119cia fazowego:"
     ]
    },
    {
     "cell_type": "code",
     "collapsed": false,
     "input": [
      "philist=linspace(0.0,2.0*pi,100.0)\n",
      "plist=zeros(len(philist))"
     ],
     "language": "python",
     "metadata": {},
     "outputs": [],
     "prompt_number": 13
    },
    {
     "cell_type": "markdown",
     "metadata": {},
     "source": [
      "oraz stan na wej\u015bciu interferometru:"
     ]
    },
    {
     "cell_type": "code",
     "collapsed": false,
     "input": [
      "psi=dn"
     ],
     "language": "python",
     "metadata": {},
     "outputs": [],
     "prompt_number": 14
    },
    {
     "cell_type": "markdown",
     "metadata": {},
     "source": [
      "A dalej obliczamy warto\u015b\u0107 funkcji P0() dla przesunie\u0107 fazowych:"
     ]
    },
    {
     "cell_type": "code",
     "collapsed": false,
     "input": [
      "for i1 in xrange(len(philist)):\n",
      "    x=philist[i1]\n",
      "    plist[i1]=P0(psi,x)"
     ],
     "language": "python",
     "metadata": {},
     "outputs": [],
     "prompt_number": 15
    },
    {
     "cell_type": "markdown",
     "metadata": {},
     "source": [
      "Uzyskany wynik mo\u017cemy nakre\u015bli\u0107:"
     ]
    },
    {
     "cell_type": "code",
     "collapsed": false,
     "input": [
      "plot(philist,plist,'-',label='', linewidth=4)\n",
      "xlabel('phi',fontsize=20)\n",
      "ylabel('P0',fontsize=20)\n",
      "show()"
     ],
     "language": "python",
     "metadata": {},
     "outputs": [],
     "prompt_number": 17
    },
    {
     "cell_type": "markdown",
     "metadata": {},
     "source": [
      "Zadania\n",
      "-------\n",
      "\n",
      "1. Dla jakich parametr\u00f3w dzielnik wi\u0105zki ma posta\u0107 $U=U_1$\n",
      "2. Dla jakich parametr\u00f3w dzielnik wi\u0105zki ma posta\u0107 $U=U_2$\n",
      "3. Dla interferomentru Macha Zendera nakre\u015bli\u0107 prawodopodobie\u0144sto detekcji wi\u0105zki $0$ przy za\u0142o\u017ceniu, \u017ce na wej\u015bciu interferometru wi\u0105zka by\u0142a dana stanem $|\\psi\\rangle=\\frac{1}{\\sqrt{2}}[|0\\rangle+|1\\rangle]$  \n"
     ]
    },
    {
     "cell_type": "code",
     "collapsed": false,
     "input": [],
     "language": "python",
     "metadata": {},
     "outputs": []
    }
   ],
   "metadata": {}
  }
 ]
}