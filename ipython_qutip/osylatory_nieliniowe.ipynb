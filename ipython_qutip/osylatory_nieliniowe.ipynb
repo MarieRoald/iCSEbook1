{
 "metadata": {
  "name": ""
 },
 "nbformat": 3,
 "nbformat_minor": 0,
 "worksheets": [
  {
   "cells": [
    {
     "cell_type": "markdown",
     "metadata": {},
     "source": [
      "Kwantowe oscylatory nieliniowe\n",
      "===========================\n",
      "\n",
      "\n",
      "Plan\n",
      "----\n",
      "1. Przyk\u0142ady nieliniowych o\u015brodk\u00f3w optycznych\n",
      "2. Stany stacjonarne kwantowych oscylator\u00f3w nieliniowych: graficzne por\u00f3wanie z oscylatorem liniowym\n",
      "3. Funkcje Wignera stan\u00f3w stacjonarnych, wizualizacja\n",
      "4. Ewolucja w czasie: por\u00f3wanie z przypadkiem liniowym\n",
      "5. Zadania\n"
     ]
    },
    {
     "cell_type": "markdown",
     "metadata": {},
     "source": [
      "W optyce kwantowej oscylator harmoniczny odgrywa pierwszoplanow\u0105 rol\u0119. Model ten doskonale przybli\u017ca drgania mod\u00f3w optycznych i mikrofalowych w osrodkach liniowych. Zastosowania optyki kwantowej zwi\u0105zane z generowaniem na przyk\u0142ad stan\u00f3w \u015bcie\u015bnionych (squeezed) wymaga jednak wykorzystania osrodk\u00f3w nieliniowych. Bodaj najlepiej znanym przyk\u0142adem teakiego osrodka jest osrodek Kerra, w kt\u00f3rym mody optyczne opisuje hamiltonian \n",
      "\n",
      "$H=a^\\dagger a+ \\alpha (a^\\dagger a^\\dagger + aa)$\n",
      "\n",
      "Naszym celem jest przprowadzenie znalizy graficznej (wizualizacji) wp\u0142ywu nielionow\u015bci (poprzez amplitud\u0119 $\\alpha$) na wybrane w\u0142asno\u015bci oscylatora nielionwego. Jako punkt odniesienia przyjmiemy osylator harmoniczny\n",
      "\n",
      "$H_0=a^\\dagger a$\n",
      "\n",
      "Rozpoczniemy od zaimportowania niezbednych narz\u0119dzi:"
     ]
    },
    {
     "cell_type": "code",
     "collapsed": false,
     "input": [
      "from qutip import *\n",
      "from mpl_toolkits.mplot3d import Axes3D\n",
      "from matplotlib import *\n",
      "from pylab import *"
     ],
     "language": "python",
     "metadata": {},
     "outputs": [],
     "prompt_number": 1
    },
    {
     "cell_type": "markdown",
     "metadata": {},
     "source": [
      "Przestrze\u0144 Hilberta oscylatora harmonicznego, bed\u0105ca w istocie aren\u0105 dla reprezentacji algebry Heisenberga-Weyla\n",
      "\n",
      "$[a,a^\\dagger]=1$\n",
      "\n",
      "jest niesko\u0144czenie wymiarowa. \n",
      "W obliczeniach wykorzystujemy obciet\u0105 przestrze\u0144 stan\u00f3w. Obci\u0119cie ograniczamy do wymiaru $N$ okreslonego poni\u017cej:  "
     ]
    },
    {
     "cell_type": "code",
     "collapsed": false,
     "input": [
      "N=10"
     ],
     "language": "python",
     "metadata": {},
     "outputs": [],
     "prompt_number": 2
    },
    {
     "cell_type": "markdown",
     "metadata": {},
     "source": [
      "Dalej okre\u015blamy stopie\u0144 nieliniowo\u015bci naszego oscylatora"
     ]
    },
    {
     "cell_type": "code",
     "collapsed": false,
     "input": [
      "x=1.0"
     ],
     "language": "python",
     "metadata": {},
     "outputs": [],
     "prompt_number": 3
    },
    {
     "cell_type": "markdown",
     "metadata": {},
     "source": [
      "i jego hamiltonian"
     ]
    },
    {
     "cell_type": "code",
     "collapsed": false,
     "input": [
      "H=num(N)+x*(create(N)*create(N)+destroy(N)*destroy(N))"
     ],
     "language": "python",
     "metadata": {},
     "outputs": [],
     "prompt_number": 4
    },
    {
     "cell_type": "markdown",
     "metadata": {},
     "source": [
      "A tak\u017ce odpowiadaj\u0105cy mu model harmoniczny:"
     ]
    },
    {
     "cell_type": "code",
     "collapsed": false,
     "input": [
      "H0=num(N)"
     ],
     "language": "python",
     "metadata": {},
     "outputs": [],
     "prompt_number": 5
    },
    {
     "cell_type": "markdown",
     "metadata": {},
     "source": [
      "Na wst\u0119pie skupimy si\u0119 na zagadnieniou stacjonarnym:\n",
      "\n",
      "$H|\\psi_n\\rangle=E_n|\\psi_n\\rangle$\n",
      "\n",
      "Do znalezienia widm obu oscylator\u00f3w wykorzystamy funkcj\u0119 eigenstates():"
     ]
    },
    {
     "cell_type": "code",
     "collapsed": false,
     "input": [
      "kk=H.eigenstates(sort='low')\n",
      "E=kk[0] # warto\u015bci w\u0142asne\n",
      "W=kk[1] # wektory w\u0142asne"
     ],
     "language": "python",
     "metadata": {},
     "outputs": [],
     "prompt_number": 6
    },
    {
     "cell_type": "markdown",
     "metadata": {},
     "source": [
      "Oczywi\u015bcie obliczenia numeryczne dla oscylatora harmionicznego s\u0105 zbedne, jednak dla og\u00f3lno\u015bci rozwa\u017ca\u0144 oraz jako test funkcji eigenstates() przprowadzimy je mimo to:"
     ]
    },
    {
     "cell_type": "code",
     "collapsed": false,
     "input": [
      "kk0=H0.eigenstates(sort='low')\n",
      "E0=kk0[0] # warto\u015bci w\u0142asne\n",
      "W0=kk0[1] # wektory w\u0142asne"
     ],
     "language": "python",
     "metadata": {},
     "outputs": [],
     "prompt_number": 7
    },
    {
     "cell_type": "markdown",
     "metadata": {},
     "source": [
      "Najprostsza wizualizacja zamieszczona poni\u017cej pozwala zauwa\u017cy\u0107 znacz\u0105cy wp\u0142yw nieliowo\u015bci na widmo oscylatora. Wszelkie odst\u0119pstwa od zale\u017cnosci liniowej na poni\u017cszym wykrsie s\u0105 interpretowane jako efekt indukowany nieliniowo\u015bci\u0105:"
     ]
    },
    {
     "cell_type": "code",
     "collapsed": false,
     "input": [
      "plot(E0,E, '.')\n",
      "show()"
     ],
     "language": "python",
     "metadata": {},
     "outputs": [],
     "prompt_number": 8
    },
    {
     "cell_type": "markdown",
     "metadata": {},
     "source": [
      "Wp\u0142yw nieliowo\u015bci na stany stacjonarne (wektory w\u0142asne hamiltonianu) okreslimy przy uzyciu _fidelity_ \n",
      "\n",
      "$F(\\rho,\\sigma)=\\mbox{Tr}[\\sqrt{\\sqrt{\\rho}\\sigma\\sqrt{\\rho}}]$\n",
      "\n",
      "policzonej dla stan\u00f3w w\u0142asnych $|\\psi_n\\rangle$ oraz $|\\psi_n^0\\rangle$.\n",
      "\n",
      "Oczywi\u015bcie w tym przypadku $F$ redukuje si\u0119 do iloczynu skalarnego \n",
      "\n",
      "$F=\\langle\\psi_n|\\psi_n^0\\rangle$, \n",
      "\n",
      "my jednak wykorzystamy w obliczeniach funkcj\u0119 fidelity():"
     ]
    },
    {
     "cell_type": "code",
     "collapsed": false,
     "input": [
      "nlist=linspace(0,N-1,N)\n",
      "fidlist=zeros(len(nlist))"
     ],
     "language": "python",
     "metadata": {},
     "outputs": [],
     "prompt_number": 9
    },
    {
     "cell_type": "code",
     "collapsed": false,
     "input": [
      "for i1 in xrange(len(nlist)):\n",
      "    a=ket2dm(W[i1])\n",
      "    b=ket2dm(W0[i1])\n",
      "    fidlist[i1]=fidelity(a,b)"
     ],
     "language": "python",
     "metadata": {},
     "outputs": [],
     "prompt_number": 10
    },
    {
     "cell_type": "markdown",
     "metadata": {},
     "source": [
      "Uyskane wyniki nakre\u015blimy:"
     ]
    },
    {
     "cell_type": "code",
     "collapsed": false,
     "input": [
      "plot(nlist,fidlist, '--', linewidth=7)\n",
      "show()"
     ],
     "language": "python",
     "metadata": {},
     "outputs": [],
     "prompt_number": 11
    },
    {
     "cell_type": "markdown",
     "metadata": {},
     "source": [
      "Niezwykle ciekawym jest wp\u0142yw nieliowo\u015bci na nieklasyczne w\u0142asono\u015bci stan\u00f3w stacjonarnych. Wp\u0142yw ten prezentujemy za pomoc\u0105 funkcji Wignera. \n",
      "\n",
      "Funcja Wignera jest jedn\u0105 z najcz\u0119\u015bciej wykorzystywanych funkcji w optyce kwantowej. Tutaj zdefiniujemy j\u0105 jedynie dla stan\u00f3w czystych  $|\\psi\\rangle$ poprzez jedn\u0105 z jej w\u0142asno\u015bci, kt\u00f3re mo\u017cna otrzyma\u0107 z og\u00f3lnej definicji:\n",
      "\n",
      "$ W(\\alpha)=\\frac{2}{\\pi}\\sum_{n=0}^\\infty \\langle \\psi|D(\\alpha)|n\\rangle\\langle n|D^\\dagger(\\alpha)|\\psi\\rangle   $\n",
      "\n",
      "gdzie operator przesuni\u0119cia $ D $dany jest wzorem:\n",
      "\n",
      "$ D(\\alpha) = \\exp(\\alpha a^\\dagger -\\alpha^* a )$\n",
      "\n",
      "Podstawow\u0105 cech\u0105 funkcji Wignera, kt\u00f3r\u0105 wykorzystamy jest to, \u017ce przyjmuje ona warto\u015bci ujemne dla stan\u00f3w, kt\u00f3re nale\u017c\u0105 do grupy \"nieklasycznych\"\n"
     ]
    },
    {
     "cell_type": "code",
     "collapsed": false,
     "input": [
      "rho=ket2dm(W[1]) #stan, dla kt\u00f3rego funkcja Wignera zostanie nakre\u015blona\n",
      "xvec = linspace(-5,5,200)\n",
      "X, Y = meshgrid(xvec, xvec)\n",
      "W = wigner(rho, xvec, xvec)\n",
      "fig = figure()\n",
      "ax = Axes3D(fig, azim=-62, elev=25)\n",
      "ax.plot_surface(X, Y, W, rstride=2, cstride=2, cmap=cm.jet, lw=.1)\n",
      "ax.set_xlim3d(-6, 6)\n",
      "ax.set_ylim3d(-6, 6)\n",
      "ax.set_zlim3d(0, 0.4)\n",
      "title('Funkcja Wignera')\n",
      "show()"
     ],
     "language": "python",
     "metadata": {},
     "outputs": [],
     "prompt_number": 12
    },
    {
     "cell_type": "markdown",
     "metadata": {},
     "source": [
      "W nastepnym kroku naszych rozwa\u017ca\u0144 przejdziemy do badania zagadnienia niestacjonarnego. Zadamy pytanie o wp\u0142yw nieliniowosci na ewolucj\u0119 w czasie wybranych stan\u00f3w pocz\u0105tkowych:"
     ]
    },
    {
     "cell_type": "code",
     "collapsed": false,
     "input": [
      "psi0=ket2dm(basis(N,0))"
     ],
     "language": "python",
     "metadata": {},
     "outputs": [],
     "prompt_number": 13
    },
    {
     "cell_type": "code",
     "collapsed": false,
     "input": [
      "tlist=linspace(0.0, 1.0, 5.0)\n",
      "qlist=zeros(len(tlist))"
     ],
     "language": "python",
     "metadata": {},
     "outputs": [],
     "prompt_number": 14
    },
    {
     "cell_type": "markdown",
     "metadata": {},
     "source": [
      "Bedziemy por\u00f3wnywac ewolucj\u0105 harmoniczn\u0105 (dla $H_0$) z ewolucj\u0105 generowana przez osrodek nieliniowy $H$: "
     ]
    },
    {
     "cell_type": "code",
     "collapsed": false,
     "input": [
      "qq=mesolve(H, psi0, tlist, [], [])\n",
      "qq0=mesolve(H0, psi0, tlist, [], [])"
     ],
     "language": "python",
     "metadata": {},
     "outputs": [],
     "prompt_number": 15
    },
    {
     "cell_type": "markdown",
     "metadata": {},
     "source": [
      "Jako mier\u0119 wp\u0142ywu nieliowosci ponownie wykorzystamy fidelity:"
     ]
    },
    {
     "cell_type": "code",
     "collapsed": false,
     "input": [
      "for i1 in xrange(len(tlist)):\n",
      "    a=qq.states[i1]\n",
      "    b=qq0.states[i1]\n",
      "    qlist[i1]=fidelity(a,b)"
     ],
     "language": "python",
     "metadata": {},
     "outputs": [],
     "prompt_number": 16
    },
    {
     "cell_type": "markdown",
     "metadata": {},
     "source": [
      "Uzyskany wynik nakre\u015blimy:"
     ]
    },
    {
     "cell_type": "code",
     "collapsed": false,
     "input": [
      "plot(tlist,qlist, '--', linewidth=7)\n",
      "show()"
     ],
     "language": "python",
     "metadata": {},
     "outputs": [],
     "prompt_number": 18
    },
    {
     "cell_type": "markdown",
     "metadata": {},
     "source": [
      "Zadania\n",
      "------\n",
      "1. Zwizualiziwac wp\u0142yw nieliniowio\u015bci na odleg\u0142o\u015bc miedzy stanami stacjonarnymi osyclatora nieliniowego i oscylatora harmonicznego uzywaj\u0105c \"trace distance\"\n",
      "2. Wykre\u015blic fidelity w ewolucji czasowej innego warunku poczatkowego\n",
      "3. Powt\u00f3rzy\u0107 analiz\u0119 dla przypadku $H=a^\\dagger a+\\alpha\\cos(a+a^\\dagger))$"
     ]
    },
    {
     "cell_type": "code",
     "collapsed": false,
     "input": [],
     "language": "python",
     "metadata": {},
     "outputs": []
    }
   ],
   "metadata": {}
  }
 ]
}