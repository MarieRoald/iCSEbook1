{
 "metadata": {
  "name": ""
 },
 "nbformat": 3,
 "nbformat_minor": 0,
 "worksheets": [
  {
   "cells": [
    {
     "cell_type": "markdown",
     "metadata": {},
     "source": [
      "Kwantowa niezgodno\u015b\u0107\n",
      "===================\n",
      "\n",
      "Plan\n",
      "----\n",
      "\n",
      "1. Definicja \n",
      "2. Zastosowania\n",
      "3. Konstrukcja numeryczna \n",
      "4. Wizualizacja wynik\u00f3w\n",
      "5. Zadania\n"
     ]
    },
    {
     "cell_type": "markdown",
     "metadata": {},
     "source": [
      "\n",
      "\n",
      "\n",
      "\n",
      "Splatanie kwantowe, choc najlepiej znane, nie jest jedynym efektywnym rodzajem korelacji kwantowych. Istniej\u0105 inne rodzaje korelacji, istotnie nieklasycznych, kt\u00f3re istniej\u0105 nawet w niobecnosci spl\u0105tania. Przyk\u0142adem miary takich korelacji jest _quantum discord_ t\u0142umaczony jako _niezgodno\u015b\u0107_, _niedopasowanie_ lub nawet _zgrzyt kwantowy_. Dla unikniecia zamieszania w terminologii poni\u017cej u\u017cyjemu skr\u00f3tu __QD__.\n",
      "\n",
      "Niesttey, brak jednoznacznego umocowania matematycznego QD, czego\u015b w rodzaju j\u0119zyka iloczyn\u00f3w tensorowych lub \u015bwiadk\u00f3w spl\u0105tania powoduje, \u017ce istnieje przynajmniej kilka propozycji definiowania  korelacji nieklasycznych. Tutaj ograniczymy sie do jednej, co wiecej ograniczymy sie do bardzo szczeg\u00f3lnego przypadku korelacji kwantowych mierzonych przez QD w przypadku uk\u0142ad\u00f3w z\u0142o\u017conych z pary qubit\u00f3w. \n",
      "\n",
      "\n",
      "Przystapmy do zdefiniowania QD. Rozwa\u017cmy par\u0119 qubit\u00f3w: \n",
      "$A$ and $B$.  \n",
      "\n",
      "Ca\u0142kowite korelacje (bez podzia\u0142u na klasyczne i kwantowe) s\u0105 uj\u0119te w _entropii wzajemnej_ (mutual entropy) policzonej dla  $A$ oraz $B$. Informacj\u0119 ta mo\u017cna sformu\u0142owac w postaci r\u00f3\u017cnicy entropii:\n",
      "\n",
      "$T=S(\\rho_A)+S(\\rho_B)-S(\\rho_{AB}) $\n",
      "\n",
      "$S(\\rho)=-\\mbox{Tr}\\left(\\rho\\ln(\\rho)\\right)$\n",
      "\n",
      "gdzie $\\rho_{A}=\\mbox{Tr}_B\\rho_{AB}$ oraz $\\rho_{B}=\\mbox{Tr}_A\\rho_{AB}$.\n",
      "\n",
      "To co wiemy o $A$, pod warunkiem, \u017ce na  $B$  przeprowadzony zosta\u0142 pomiar (rzutowy) $\\Pi_j^B$,  mo\u017cna opisa\u0107 za pomoc\u0105 _entropii warunkowej_ (conditional entropy)\n",
      "\n",
      "$\n",
      "S_{\\Pi^B_j}=\\sum_{j=0}^{1} q_j S(\\rho_A^j)\n",
      "$\n",
      "\n",
      "$\\rho_A^j=\\frac{1}{q_j}\\mbox{Tr}_B\\left[\\left({\\bf 1}_A\\otimes \\Pi_j^B  \\right) \\rho_{AB} \\left({\\bf 1}_A\\otimes \\Pi_j^B  \\right)\\right] $  \n",
      "\n",
      "$q_j= \\mbox{Tr}_{AB}\\left[\\left({\\bf 1}_A\\otimes \\Pi_j^B  \\right)\\rho_{AB} \\right]$\n",
      "\n",
      "kt\u00f3ra, maksymalizowana wzgledem wszystkich pomiar\u00f3w daje klasyczn\u0105 cz\u0119\u015b\u0107 ca\u0142kowitych korelacji.\n",
      "\n",
      "$\n",
      "C=S(\\rho_A)-\\max_{\\Pi_j^B}S_{\\Pi^B_j}\n",
      "$\n",
      "\n",
      "Pozosta\u0142a cz\u0119\u015b\u0107:\n",
      "\n",
      "$\n",
      "D= T-C\n",
      "$\n",
      "\n",
      "\n",
      "__to QD__.\n",
      "\n",
      "Za\u0142o\u017cenie upraszczaj\u0105ce, zgodnie z kt\u00f3rym ograniczamy rozwa\u017cania do pary qubit\u00f3w pozwala ograniczy\u0107 si\u0119 do uwzgl\u0119dnienia _tylko_ pomiar\u00f3w rzutowych:\n",
      "\n",
      "$\n",
      "\\Pi_0^B=\\left(\\begin{array}{cc} \\cos^2(\\theta/2) & \\sin(\\theta)\\exp(i \\phi)\\\\\\sin(\\theta)\\exp(-i \\phi) & \\sin^2(\\theta/2) \\end{array} \\right)$\n",
      "\n",
      "$\n",
      "\\Pi_1^B={\\bf 1}_B-\\Pi_0^B\n",
      "$\n",
      "\n",
      "\n",
      "gdzie $\\theta ,\\phi$ to standardowa parametryzacja sfery Blocha. \n",
      "\n"
     ]
    },
    {
     "cell_type": "markdown",
     "metadata": {},
     "source": [
      "Rozpoczniemy od importowania niezbednych narz\u0119dzi: "
     ]
    },
    {
     "cell_type": "code",
     "collapsed": false,
     "input": [
      "from qutip import *\n",
      "from pylab import *"
     ],
     "language": "python",
     "metadata": {},
     "outputs": [],
     "prompt_number": 1
    },
    {
     "cell_type": "markdown",
     "metadata": {},
     "source": [
      "Nast\u0119pnie zdefiniujemy funkcje obliczaj\u0105c\u0105 QD dla pary qubit\u00f3w. Prosz\u0119 zwr\u00f3ci\u0107 uwag\u0119 na parametr prec, kt\u00f3ry okre\u015bla szczeg\u00f3\u0142owo\u015b\u0107 procedury maksymalizacyjnej. Warto\u015b\u0107 prec=10 jest niestaysfakcjonujaca, jednak wyb\u00f3r wy\u017cszego prec powoduje znacz\u0105ce wydlu\u017cenie oblicze\u0144.   "
     ]
    },
    {
     "cell_type": "code",
     "collapsed": false,
     "input": [
      "def discord(ro):\n",
      "    ll=[]\n",
      "    prec=10\n",
      "    th=linspace(0,pi,prec)\n",
      "    ph=linspace(0,2.0*pi,prec)\n",
      "    for i1 in xrange(len(ph)):\n",
      "        phi=ph[i1]\n",
      "        for i2 in xrange(len(th)):\n",
      "            theta=th[i2]\n",
      "            phi=0.0\n",
      "            psi=cos(theta/2.0)*basis(2,0)+exp(1J*phi)*sin(theta/2.0)*basis(2,1)\n",
      "            p0=ket2dm(psi)\n",
      "            p1=qeye(2)-p0\n",
      "            P0=tensor(qeye(2),p0)\n",
      "            P1=tensor(qeye(2),p1)\n",
      "            ####################\n",
      "            q0=(P0*ro).tr()\n",
      "            r20=(P0*ro*P0).ptrace([0])\n",
      "            ro0=r20.unit()\n",
      "            ####################\n",
      "            q1=(P1*ro).tr()\n",
      "            r21=(P1*ro*P1).ptrace([0])\n",
      "            ro1=r21.unit()\n",
      "            ###################\n",
      "            r1=ro.ptrace([0])\n",
      "            #r2=ro.ptrace([1])\n",
      "            JJ=entropy_vn(r1,e)-q0*entropy_vn(ro0,e)-q1*entropy_vn(ro1,e)\n",
      "            ll=ll+[real(JJ)]\n",
      "    #\n",
      "    r2=ro.ptrace([1])\n",
      "    II=entropy_vn(r1,e)+entropy_vn(r2,e)-entropy_vn(ro,e)\n",
      "    DD=II-max(ll)\n",
      "    return DD"
     ],
     "language": "python",
     "metadata": {},
     "outputs": [],
     "prompt_number": 2
    },
    {
     "cell_type": "markdown",
     "metadata": {},
     "source": [
      "Zastoswanie funkcji discord() rozpoczniemy od najbardziej oczywistego przypadku stanu Bella: "
     ]
    },
    {
     "cell_type": "code",
     "collapsed": false,
     "input": [
      "B0=(tensor(basis(2,0),basis(2,0))+tensor(basis(2,1),basis(2,1))).unit()"
     ],
     "language": "python",
     "metadata": {},
     "outputs": [],
     "prompt_number": 3
    },
    {
     "cell_type": "markdown",
     "metadata": {},
     "source": [
      "Argumentem funkcji discord() jest macierz gesto\u015bci. Do przekszta\u0142acenia B0 w odpowiadajacy mu stan BB0 wykorzystamy funkcje ket2dm():"
     ]
    },
    {
     "cell_type": "code",
     "collapsed": false,
     "input": [
      "BB0=ket2dm(B0)"
     ],
     "language": "python",
     "metadata": {},
     "outputs": [],
     "prompt_number": 4
    },
    {
     "cell_type": "markdown",
     "metadata": {},
     "source": [
      "Nast\u0119pniec obliczym QD: "
     ]
    },
    {
     "cell_type": "code",
     "collapsed": false,
     "input": [
      "discord(BB0)"
     ],
     "language": "python",
     "metadata": {},
     "outputs": [
      {
       "metadata": {},
       "output_type": "pyout",
       "prompt_number": 5,
       "text": [
        "0.69314718055994307"
       ]
      }
     ],
     "prompt_number": 5
    },
    {
     "cell_type": "markdown",
     "metadata": {},
     "source": [
      "Jest to oczywi\u015bcie maksymalna warto\u015b\u0107 QD dostepna dla pary qubit\u00f3w.  \n",
      "\n",
      "W nast\u0119pnym kroku przygotujemy wizualizacj\u0119 warto\u015bci QD dla pary qubit\u00f3w w zdepolaryzowanym stanie Bella: "
     ]
    },
    {
     "cell_type": "code",
     "collapsed": false,
     "input": [
      "plist = linspace(0.0, 1.0, 10.0)\n",
      "clist=zeros(len(plist))"
     ],
     "language": "python",
     "metadata": {},
     "outputs": [],
     "prompt_number": 6
    },
    {
     "cell_type": "markdown",
     "metadata": {},
     "source": [
      "W nast\u0119pnym kroku obliczmy QD.\n",
      "\n",
      "__Uwaga__ obliczenia czasoch\u0142onne."
     ]
    },
    {
     "cell_type": "code",
     "collapsed": false,
     "input": [
      "for i1 in xrange(len(plist)):\n",
      "    p=i1*0.1\n",
      "    rho=(1-p)*BB0+p/4.0*tensor(qeye(2),qeye(2))\n",
      "    c=discord(rho)\n",
      "    clist[i1]=c\n",
      "                "
     ],
     "language": "python",
     "metadata": {},
     "outputs": [],
     "prompt_number": 7
    },
    {
     "cell_type": "markdown",
     "metadata": {},
     "source": [
      "Uzyskane wyniki nakre\u015blimy:"
     ]
    },
    {
     "cell_type": "code",
     "collapsed": false,
     "input": [
      "plot(plist,clist,'-.r',label='', linewidth=4)\n",
      "xlabel('p',fontsize=20)\n",
      "ylabel('QD',fontsize=20)\n",
      "show()"
     ],
     "language": "python",
     "metadata": {},
     "outputs": [],
     "prompt_number": 8
    },
    {
     "cell_type": "markdown",
     "metadata": {},
     "source": [
      "Nast\u0119pnym \u0107wiczeniem niech b\u0119dzie nakre\u015blenie zmian QD w ewolucji w czasie stanu Bella. Rozwa\u017camy dwa qubity, kt\u00f3rych dynamika generowana jest nastepuj\u0105cym hamiltonianem:"
     ]
    },
    {
     "cell_type": "code",
     "collapsed": false,
     "input": [
      "H1=tensor(qeye(2), sigmaz())\n",
      "H2=tensor(sigmaz(),qeye(2))\n",
      "Hint=tensor(sigmax(),sigmax())"
     ],
     "language": "python",
     "metadata": {},
     "outputs": [],
     "prompt_number": 9
    },
    {
     "cell_type": "code",
     "collapsed": false,
     "input": [
      "H=H1+H2+Hint"
     ],
     "language": "python",
     "metadata": {},
     "outputs": [],
     "prompt_number": 10
    },
    {
     "cell_type": "markdown",
     "metadata": {},
     "source": [
      "Oddzia\u0142ywanie pomiedzy qubitami zadane przez $Hint$ mo\u017ce wp\u0142ywa\u0107 konstruktywnie na QD. W chwili pocz\u0105tkowej uk\u0142ad jest w stanie Bella:"
     ]
    },
    {
     "cell_type": "code",
     "collapsed": false,
     "input": [
      "psi0=BB0"
     ],
     "language": "python",
     "metadata": {},
     "outputs": [],
     "prompt_number": 11
    },
    {
     "cell_type": "markdown",
     "metadata": {},
     "source": [
      "W kolejnym kroku wykonujemy obliczenia dynamiki uk\u0142adu przy u\u017cyciu funkcji mesolve(): "
     ]
    },
    {
     "cell_type": "code",
     "collapsed": false,
     "input": [
      "tlist=linspace(0.0, 1.0, 5.0)\n",
      "qlist=zeros(len(tlist))"
     ],
     "language": "python",
     "metadata": {},
     "outputs": [],
     "prompt_number": 19
    },
    {
     "cell_type": "code",
     "collapsed": false,
     "input": [
      "qq=mesolve(H, psi0, tlist, [], [])"
     ],
     "language": "python",
     "metadata": {},
     "outputs": [],
     "prompt_number": 20
    },
    {
     "cell_type": "code",
     "collapsed": false,
     "input": [
      "for i1 in xrange(len(tlist)):\n",
      "    rho=qq.states[i1]\n",
      "    c=discord(rho)\n",
      "    qlist[i1]=c"
     ],
     "language": "python",
     "metadata": {},
     "outputs": [],
     "prompt_number": 21
    },
    {
     "cell_type": "markdown",
     "metadata": {},
     "source": [
      "Uzyskane wyniki nakre\u015blamy:"
     ]
    },
    {
     "cell_type": "code",
     "collapsed": false,
     "input": [
      "plot(tlist,qlist,'-.r',label='', linewidth=4)\n",
      "xlabel('t',fontsize=20)\n",
      "ylabel('QD',fontsize=20)\n",
      "show()"
     ],
     "language": "python",
     "metadata": {},
     "outputs": [],
     "prompt_number": 23
    },
    {
     "cell_type": "markdown",
     "metadata": {},
     "source": [
      "Zadania\n",
      "------\n",
      "1. Nakre\u015bli\u0107 warto\u015b\u0107 QD dla zdepolaryzowanego stanu Bella (innego ni\u017c w przyk\u0142adzie) w zale\u017cno\u015bci od warto\u015bci parametru depolaryzacji. \n",
      "2. Pokaza\u0107 graficznie,\u017ce uzyskane wyniki nie zale\u017c\u0105 od wyboru stanu Bella.\n",
      "3. Wykre\u015bli\u0107 QD dla uk\u0142adu qubit\u00f3w odzia\u0142ujacych poprzez $Hint=\\sigma_z\\otimes\\sigma_z$. "
     ]
    },
    {
     "cell_type": "code",
     "collapsed": false,
     "input": [],
     "language": "python",
     "metadata": {},
     "outputs": []
    }
   ],
   "metadata": {}
  }
 ]
}